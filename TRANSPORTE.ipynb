{
 "cells": [
  {
   "cell_type": "markdown",
   "metadata": {},
   "source": [
    "## PROBLEMAS DE TRANSPORTE "
   ]
  },
  {
   "cell_type": "markdown",
   "metadata": {},
   "source": [
    "Definición: El problema de transporte es un problema clásico de programación lineal en el cual se debe minimizar el costo del abastecimiento a una serie de puntos de demanda a partir de un grupo de puntos de oferta, teniendo en cuenta los distintos precios de envío de cada punto de oferta a cada punto de demanda."
   ]
  },
  {
   "cell_type": "markdown",
   "metadata": {},
   "source": [
    "## planteamiento del problema "
   ]
  },
  {
   "cell_type": "markdown",
   "metadata": {},
   "source": [
    "La empresa BBC dedicada a la fabricación de cerveza artesanal dispone de dos sedes para satisfacer la demanda diaria de cerveza en cinco establecimientos de diferentes ciudades. Las sedes A y B pueden satisfacer 1000 y 4000 cervezas al día respectivamente. Las necesidades de los establecimientos 1 a 5 son 500, 900, 1800, 200 y 700 al día respectivamente.Teniendo en cuenta que el gerente financiero informó que el costo de transporte por caja de cada ruta se conforma de acuerdo a la siguiente tabla:"
   ]
  },
  {
   "cell_type": "code",
   "execution_count": 93,
   "metadata": {},
   "outputs": [
    {
     "name": "stdout",
     "output_type": "stream",
     "text": [
      "Populating the interactive namespace from numpy and matplotlib\n"
     ]
    },
    {
     "data": {
      "text/plain": [
       "<matplotlib.image.AxesImage at 0x26089dc6e48>"
      ]
     },
     "execution_count": 93,
     "metadata": {},
     "output_type": "execute_result"
    },
    {
     "data": {
      "image/png": "[encoded data removed]",
      "text/plain": [
       "<matplotlib.figure.Figure at 0x26089c934e0>"
      ]
     },
     "metadata": {},
     "output_type": "display_data"
    }
   ],
   "source": [
    "import skimage\n",
    "import pulp as pulp\n",
    "\n",
    "%pylab inline  \n",
    "import skimage.io as skio\n",
    "\n",
    "image = skio.imread('costo1.PNG')\n",
    "plt.imshow(image)"
   ]
  },
  {
   "cell_type": "markdown",
   "metadata": {},
   "source": [
    "## SOLUCIÓN"
   ]
  },
  {
   "cell_type": "markdown",
   "metadata": {},
   "source": [
    "Para solucionar problemas de transporte se deben implementar las librerias PulP o Pyomo, su instalación se realiza por fuera por la consola (Una sola vez). Usaremos en este caso, el paquete de programación lineal PuLP,el cual, utiliza en gran medida la sintaxis de Python y viene empaquetado con el solucionador de fuente abierta y comerciales LP."
   ]
  },
  {
   "cell_type": "markdown",
   "metadata": {},
   "source": [
    "$ pip install pulp"
   ]
  },
  {
   "cell_type": "markdown",
   "metadata": {},
   "source": [
    "Paso 1. El primer paso corresponde a la definición de las variables, regularmente se le denomina a las variables de manera algebraica Xi,j donde i simboliza a la fuente y j simboliza al destino. En este caso i define el conjunto {BBC A y BBC B}, y j define el conjunto {Bar1, Bar2, Bar3, Bar4 y Bar5}. "
   ]
  },
  {
   "cell_type": "code",
   "execution_count": 74,
   "metadata": {},
   "outputs": [],
   "source": [
    "# Creamos la variable prob que contiene los datos del problema\n",
    "prob = pulp.LpProblem(\"Problema de distribución de cerveza\", pulp.LpMinimize)\n"
   ]
  },
  {
   "cell_type": "code",
   "execution_count": 75,
   "metadata": {
    "collapsed": true
   },
   "outputs": [],
   "source": [
    "# Creamos lista de nodos de oferta\n",
    "cervecerias = [\"BBC A\", \"BBC B\"]\n"
   ]
  },
  {
   "cell_type": "markdown",
   "metadata": {},
   "source": [
    "Paso 2. El segundo paso corresponde a la formulación de las restricciones de oferta y demanda, cuya cantidad se encuentra determinada por el factor entre fuentes y destinos."
   ]
  },
  {
   "cell_type": "code",
   "execution_count": 76,
   "metadata": {
    "collapsed": true
   },
   "outputs": [],
   "source": [
    "# Capacidad de oferta de cada cerveceria\n",
    "oferta = {\"BBC A\": 1000,\n",
    "          \"BBC B\": 4000}\n",
    "\n",
    "# Creamos la lista de los bares o nodos de demanda\n",
    "bares = [\"Bar 1\", \"Bar 2\", \"Bar 3\", \"Bar 4\", \"Bar 5\"]"
   ]
  },
  {
   "cell_type": "code",
   "execution_count": 77,
   "metadata": {
    "collapsed": true
   },
   "outputs": [],
   "source": [
    "# Capacidad de demanda de cada bar\n",
    "demanda = {\"Bar 1\":500,\n",
    "           \"Bar 2\":900,\n",
    "           \"Bar 3\":1800,\n",
    "           \"Bar 4\":200,\n",
    "           \"Bar 5\":700,}"
   ]
  },
  {
   "cell_type": "code",
   "execution_count": 78,
   "metadata": {
    "collapsed": true
   },
   "outputs": [],
   "source": [
    "# Lista con los costos de transporte de cada nodo\n",
    "costos = [   #Bares\n",
    "         #1 2 3 4 5\n",
    "         [2,4,5,2,1],#A   Cervecerías\n",
    "         [3,1,3,2,3] #B\n",
    "         ]"
   ]
  },
  {
   "cell_type": "markdown",
   "metadata": {},
   "source": [
    "Paso 3. El tercer paso consiste en la creacion de un listado con las posibles rutas de transporte y otra con la cantidad enviada a cada destino. Por ultimo se agregan a la variable prob, la función objetivo, la máxima oferta de cada cerveceria y la mínima demanda de cada bar (datos requeridos por PuLP) "
   ]
  },
  {
   "cell_type": "code",
   "execution_count": 83,
   "metadata": {
    "collapsed": true
   },
   "outputs": [],
   "source": [
    "# Convertimos los costos en un diccionario de PuLP\n",
    "costos = pulp.makeDict([cervecerias, bares], costos,0)"
   ]
  },
  {
   "cell_type": "code",
   "execution_count": 84,
   "metadata": {
    "collapsed": true
   },
   "outputs": [],
   "source": [
    "# Creamos una lista que contiene todas las posibles rutas de tranporte.\n",
    "rutas = [(c,b) for c in cervecerias for b in bares]"
   ]
  },
  {
   "cell_type": "code",
   "execution_count": 85,
   "metadata": {},
   "outputs": [],
   "source": [
    "# creamos x que contendrá la candidad enviada en las rutas\n",
    "x = pulp.LpVariable.dicts(\"ruta\", (cervecerias, bares), \n",
    "                        lowBound = 0,\n",
    "                        cat = pulp.LpInteger)\n"
   ]
  },
  {
   "cell_type": "code",
   "execution_count": 86,
   "metadata": {},
   "outputs": [
    {
     "name": "stderr",
     "output_type": "stream",
     "text": [
      "C:\\Program Files (x86)\\Microsoft Visual Studio\\Shared\\Anaconda3_64\\lib\\site-packages\\pulp\\pulp.py:1348: UserWarning: Overwriting previously set objective.\n",
      "  warnings.warn(\"Overwriting previously set objective.\")\n"
     ]
    }
   ],
   "source": [
    "\n",
    "# Agregamos la función objetivo al problema\n",
    "prob += sum([x[c][b]*costos[c][b] for (c,b) in rutas]), \\\n",
    "            \"Suma_de_costos_de_transporte\""
   ]
  },
  {
   "cell_type": "code",
   "execution_count": 87,
   "metadata": {},
   "outputs": [],
   "source": [
    "# Agregamos la restricción de máxima oferta de cada cervecería al problema.\n",
    "for c in cervecerias:\n",
    "    prob += sum([x[c][b] for b in bares]) <= oferta[c], \\\n",
    "            \"Suma_de_Productos_que_salen_de_cervecerias_%s\"%c"
   ]
  },
  {
   "cell_type": "code",
   "execution_count": 88,
   "metadata": {
    "collapsed": true
   },
   "outputs": [],
   "source": [
    "# Agregamos la restricción de demanda mínima de cada bar\n",
    "for b in bares:\n",
    "    prob += sum([x[c][b] for c in cervecerias]) >= demanda[b], \\\n",
    "    \"Sum_of_Products_into_Bar%s\"%b"
   ]
  },
  {
   "cell_type": "code",
   "execution_count": 89,
   "metadata": {
    "collapsed": true
   },
   "outputs": [],
   "source": [
    "# Los datos del problema son exportado a archivo .lp\n",
    "prob.writeLP(\"problemaDeTransporte.lp\")"
   ]
  },
  {
   "cell_type": "code",
   "execution_count": 90,
   "metadata": {},
   "outputs": [
    {
     "data": {
      "text/plain": [
       "1"
      ]
     },
     "execution_count": 90,
     "metadata": {},
     "output_type": "execute_result"
    }
   ],
   "source": [
    "# Resolviendo el problema.\n",
    "prob.solve()\n"
   ]
  },
  {
   "cell_type": "code",
   "execution_count": 91,
   "metadata": {},
   "outputs": [
    {
     "name": "stdout",
     "output_type": "stream",
     "text": [
      "Status: Optimal\n"
     ]
    }
   ],
   "source": [
    "# Imprimimos el estado del problema.\n",
    "print(\"Status: {}\".format(pulp.LpStatus[prob.status]))"
   ]
  },
  {
   "cell_type": "code",
   "execution_count": 92,
   "metadata": {},
   "outputs": [
    {
     "name": "stdout",
     "output_type": "stream",
     "text": [
      "__dummy = None\n",
      "ruta_BBC_A_Bar_1 = 0.0\n",
      "ruta_BBC_A_Bar_2 = 0.0\n",
      "ruta_BBC_A_Bar_3 = 1000.0\n",
      "ruta_BBC_A_Bar_4 = 0.0\n",
      "ruta_BBC_A_Bar_5 = 0.0\n",
      "ruta_BBC_B_Bar_1 = 500.0\n",
      "ruta_BBC_B_Bar_2 = 1800.0\n",
      "ruta_BBC_B_Bar_3 = 800.0\n",
      "ruta_BBC_B_Bar_4 = 200.0\n",
      "ruta_BBC_B_Bar_5 = 700.0\n"
     ]
    }
   ],
   "source": [
    "# Imprimimos cada variable con su solución óptima.\n",
    "for v in prob.variables():\n",
    "    print(\"{0:} = {1:}\".format(v.name, v.varValue))"
   ]
  },
  {
   "cell_type": "code",
   "execution_count": 38,
   "metadata": {},
   "outputs": [
    {
     "name": "stdout",
     "output_type": "stream",
     "text": [
      "Costo total de transporte = 8400.0\n"
     ]
    }
   ],
   "source": [
    "# Imprimimos el valor óptimo de la función objetivo   \n",
    "print(\"Costo total de transporte = {}\".format(prob.objective.value()))"
   ]
  },
  {
   "cell_type": "markdown",
   "metadata": {},
   "source": [
    "Como vemos, la solución óptima que encontramos con la ayuda de PuLP, nos dice que deberíamos enviar desde la BBC A, 300 cajas al Bar 1 y 700 cajas al Bar 5; y que desde la BBC B deberíamos enviar 200 cajas al Bar 1, 900 cajas al Bar 2, 1800 cajas al Bar 3 y 200 cajas al Bar 4. De esta forma podemos minimizar el costo de transporte a un total de 8600."
   ]
  }
 ],
 "metadata": {
  "kernelspec": {
   "display_name": "Python 3",
   "language": "python",
   "name": "python3"
  },
  "language_info": {
   "codemirror_mode": {
    "name": "ipython",
    "version": 3
   },
   "file_extension": ".py",
   "mimetype": "text/x-python",
   "name": "python",
   "nbconvert_exporter": "python",
   "pygments_lexer": "ipython3",
   "version": "3.6.2"
  }
 },
 "nbformat": 4,
 "nbformat_minor": 2
}
